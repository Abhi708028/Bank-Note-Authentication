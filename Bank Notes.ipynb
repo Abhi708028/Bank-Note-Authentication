{
 "cells": [
  {
   "cell_type": "code",
   "execution_count": 1,
   "metadata": {},
   "outputs": [],
   "source": [
    "# -*- coding: utf-8 -*-\n",
    "\"\"\"\n",
    "Created on Tue Nov 17 21:51:19 2020\n",
    "@author: win10\n",
    "\"\"\"\n",
    "from pydantic import BaseModel\n",
    "# 2. Class which describes Bank Notes measurements\n",
    "class BankNote(BaseModel):\n",
    "    variance: float \n",
    "    skewness: float \n",
    "    curtosis: float \n",
    "    entropy: float"
   ]
  },
  {
   "cell_type": "code",
   "execution_count": null,
   "metadata": {},
   "outputs": [],
   "source": []
  }
 ],
 "metadata": {
  "kernelspec": {
   "display_name": "Python 3",
   "language": "python",
   "name": "python3"
  },
  "language_info": {
   "codemirror_mode": {
    "name": "ipython",
    "version": 3
   },
   "file_extension": ".py",
   "mimetype": "text/x-python",
   "name": "python",
   "nbconvert_exporter": "python",
   "pygments_lexer": "ipython3",
   "version": "3.8.5"
  }
 },
 "nbformat": 4,
 "nbformat_minor": 4
}
