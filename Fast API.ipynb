{
 "cells": [
  {
   "cell_type": "code",
   "execution_count": 2,
   "metadata": {},
   "outputs": [
    {
     "ename": "ModuleNotFoundError",
     "evalue": "No module named 'BankNotes'",
     "output_type": "error",
     "traceback": [
      "\u001b[1;31m---------------------------------------------------------------------------\u001b[0m",
      "\u001b[1;31mModuleNotFoundError\u001b[0m                       Traceback (most recent call last)",
      "\u001b[1;32m<ipython-input-2-b2389030ed7b>\u001b[0m in \u001b[0;36m<module>\u001b[1;34m\u001b[0m\n\u001b[0;32m      8\u001b[0m \u001b[1;32mimport\u001b[0m \u001b[0muvicorn\u001b[0m\u001b[1;33m\u001b[0m\u001b[1;33m\u001b[0m\u001b[0m\n\u001b[0;32m      9\u001b[0m \u001b[1;32mfrom\u001b[0m \u001b[0mfastapi\u001b[0m \u001b[1;32mimport\u001b[0m \u001b[0mFastAPI\u001b[0m\u001b[1;33m\u001b[0m\u001b[1;33m\u001b[0m\u001b[0m\n\u001b[1;32m---> 10\u001b[1;33m \u001b[1;32mfrom\u001b[0m \u001b[0mBankNotes\u001b[0m \u001b[1;32mimport\u001b[0m \u001b[0mBankNote\u001b[0m\u001b[1;33m\u001b[0m\u001b[1;33m\u001b[0m\u001b[0m\n\u001b[0m\u001b[0;32m     11\u001b[0m \u001b[1;32mimport\u001b[0m \u001b[0mnumpy\u001b[0m \u001b[1;32mas\u001b[0m \u001b[0mnp\u001b[0m\u001b[1;33m\u001b[0m\u001b[1;33m\u001b[0m\u001b[0m\n\u001b[0;32m     12\u001b[0m \u001b[1;32mimport\u001b[0m \u001b[0mpickle\u001b[0m\u001b[1;33m\u001b[0m\u001b[1;33m\u001b[0m\u001b[0m\n",
      "\u001b[1;31mModuleNotFoundError\u001b[0m: No module named 'BankNotes'"
     ]
    }
   ],
   "source": [
    "# -*- coding: utf-8 -*-\n",
    "\"\"\"\n",
    "Created on Tue Nov 17 21:40:41 2020\n",
    "@author: win10\n",
    "\"\"\"\n",
    "\n",
    "# 1. Library imports\n",
    "import uvicorn\n",
    "from fastapi import FastAPI\n",
    "from BankNotes import BankNote\n",
    "import numpy as np\n",
    "import pickle\n",
    "import pandas as pd\n",
    "#uvicorn app:app --reload"
   ]
  },
  {
   "cell_type": "code",
   "execution_count": null,
   "metadata": {},
   "outputs": [],
   "source": [
    "# 2. Create the app object\n",
    "app = FastAPI()\n",
    "pickle_in = open(\"classifier.pkl\",\"rb\")\n",
    "classifier=pickle.load(pickle_in)"
   ]
  },
  {
   "cell_type": "code",
   "execution_count": null,
   "metadata": {},
   "outputs": [],
   "source": [
    "# 3. Index route, opens automatically on http://127.0.0.1:8000\n",
    "@app.get('/')\n",
    "def index():\n",
    "    return {'message': 'Hello, World'}"
   ]
  },
  {
   "cell_type": "code",
   "execution_count": null,
   "metadata": {},
   "outputs": [],
   "source": [
    "# 4. Route with a single parameter, returns the parameter within a message\n",
    "#    Located at: http://127.0.0.1:8000/AnyNameHere\n",
    "@app.get('/{name}')\n",
    "def get_name(name: str):\n",
    "    return {'Welcome To Krish Youtube Channel': f'{name}'}"
   ]
  },
  {
   "cell_type": "code",
   "execution_count": null,
   "metadata": {},
   "outputs": [],
   "source": [
    "# 3. Expose the prediction functionality, make a prediction from the passed\n",
    "#    JSON data and return the predicted Bank Note with the confidence\n",
    "@app.post('/predict')\n",
    "def predict_banknote(data:BankNote):\n",
    "    data = data.dict()\n",
    "    variance=data['variance']\n",
    "    skewness=data['skewness']\n",
    "    curtosis=data['curtosis']\n",
    "    entropy=data['entropy']"
   ]
  },
  {
   "cell_type": "code",
   "execution_count": null,
   "metadata": {},
   "outputs": [],
   "source": [
    "# print(classifier.predict([[variance,skewness,curtosis,entropy]]))\n",
    "    prediction = classifier.predict([[variance,skewness,curtosis,entropy]])\n",
    "    if(prediction[0]>0.5):\n",
    "        prediction=\"Fake note\"\n",
    "    else:\n",
    "        prediction=\"Its a Bank note\"\n",
    "    return {\n",
    "        'prediction': prediction\n",
    "    }"
   ]
  },
  {
   "cell_type": "code",
   "execution_count": null,
   "metadata": {},
   "outputs": [],
   "source": [
    "# 5. Run the API with uvicorn\n",
    "#    Will run on http://127.0.0.1:8000\n",
    "if __name__ == '__main__':\n",
    "    uvicorn.run(app, host='127.0.0.1', port=8000)\n",
    "    "
   ]
  }
 ],
 "metadata": {
  "kernelspec": {
   "display_name": "Python 3",
   "language": "python",
   "name": "python3"
  },
  "language_info": {
   "codemirror_mode": {
    "name": "ipython",
    "version": 3
   },
   "file_extension": ".py",
   "mimetype": "text/x-python",
   "name": "python",
   "nbconvert_exporter": "python",
   "pygments_lexer": "ipython3",
   "version": "3.8.5"
  }
 },
 "nbformat": 4,
 "nbformat_minor": 4
}
